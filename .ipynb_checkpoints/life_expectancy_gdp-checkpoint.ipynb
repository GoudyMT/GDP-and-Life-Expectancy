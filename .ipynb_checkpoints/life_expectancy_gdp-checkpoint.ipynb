{
 "cells": [
  {
   "cell_type": "markdown",
   "metadata": {},
   "source": [
    "# Life Expectancy and GDP Analysis\n",
    "## Project Goals\n",
    "- Analyze the relationship between GDP and life expectancy for six countries.\n",
    "- Answer: Does higher GDP correlate with higher life expectancy?\n",
    "- Summarize life expectancy and GDP trends over time per country.\n",
    "- Visualize trends using line plots, scatter plots, and other charts.\n",
    "- Identify differences in GDP-life expectancy relationships across countries.\n",
    "- Document findings in this notebook and track progress in GitHub."
   ]
  },
  {
   "cell_type": "code",
   "execution_count": 4,
   "metadata": {
    "jupyter": {
     "source_hidden": true
    }
   },
   "outputs": [
    {
     "name": "stdout",
     "output_type": "stream",
     "text": [
      "  Country  Year  Life expectancy at birth (years)           GDP\n",
      "0   Chile  2000                              77.3  7.786093e+10\n",
      "1   Chile  2001                              77.3  7.097992e+10\n",
      "2   Chile  2002                              77.8  6.973681e+10\n",
      "3   Chile  2003                              77.9  7.564346e+10\n",
      "4   Chile  2004                              78.0  9.921039e+10\n"
     ]
    }
   ],
   "source": [
    "# Load the dataset\n",
    "import pandas as pd\n",
    "data = pd.read_csv('all_data.csv')\n",
    "\n",
    "# Display the first few rows\n",
    "print(data.head())"
   ]
  },
  {
   "cell_type": "code",
   "execution_count": 5,
   "metadata": {
    "jupyter": {
     "source_hidden": true
    }
   },
   "outputs": [
    {
     "name": "stdout",
     "output_type": "stream",
     "text": [
      "<class 'pandas.core.frame.DataFrame'>\n",
      "RangeIndex: 96 entries, 0 to 95\n",
      "Data columns (total 4 columns):\n",
      " #   Column                            Non-Null Count  Dtype  \n",
      "---  ------                            --------------  -----  \n",
      " 0   Country                           96 non-null     object \n",
      " 1   Year                              96 non-null     int64  \n",
      " 2   Life expectancy at birth (years)  96 non-null     float64\n",
      " 3   GDP                               96 non-null     float64\n",
      "dtypes: float64(2), int64(1), object(1)\n",
      "memory usage: 3.1+ KB\n",
      "None\n"
     ]
    }
   ],
   "source": [
    "# Check column names and data types\n",
    "print(data.info())"
   ]
  },
  {
   "cell_type": "code",
   "execution_count": 6,
   "metadata": {
    "jupyter": {
     "source_hidden": true
    }
   },
   "outputs": [
    {
     "name": "stdout",
     "output_type": "stream",
     "text": [
      "Country                             0\n",
      "Year                                0\n",
      "Life expectancy at birth (years)    0\n",
      "GDP                                 0\n",
      "dtype: int64\n"
     ]
    }
   ],
   "source": [
    "# Check for missing values\n",
    "print(data.isnull().sum())"
   ]
  },
  {
   "cell_type": "markdown",
   "metadata": {},
   "source": [
    "## Analytical Steps\n",
    "1. **Data Cleaning**: Verify no missing values or outliers; rename columns if needed.\n",
    "2. **Summary Statistics**: Calculate mean, min, max, and std for life expectancy and GDP per country.\n",
    "3. **Visualizations**:\n",
    "   - Line plots: Life expectancy and GDP over time.\n",
    "   - Scatter plots: GDP vs. life expectancy.\n",
    "   - Bar plots: Compare averages across countries.\n",
    "4. **Correlation Analysis**: Compute correlation between GDP and life expectancy.\n",
    "5. **Insights**: Answer whether GDP correlates with life expectancy; note country differences.\n",
    "6. **Finalize**: Organize notebook and push to GitHub."
   ]
  },
  {
   "cell_type": "markdown",
   "metadata": {},
   "source": [
    "## Data Cleaning\n",
    "Checking for missing values, outliers, and renaming columns for convenience."
   ]
  },
  {
   "cell_type": "code",
   "execution_count": 9,
   "metadata": {},
   "outputs": [],
   "source": [
    "# Import libraries\n",
    "import matplotlib.pyplot as plt\n",
    "import seaborn as sns\n",
    "%matplotlib inline"
   ]
  },
  {
   "cell_type": "code",
   "execution_count": 11,
   "metadata": {
    "jupyter": {
     "source_hidden": true
    }
   },
   "outputs": [
    {
     "name": "stdout",
     "output_type": "stream",
     "text": [
      "\n",
      "Life expectancy range:\n",
      " count    96.000000\n",
      "mean     72.789583\n",
      "std      10.672882\n",
      "min      44.300000\n",
      "25%      74.475000\n",
      "50%      76.750000\n",
      "75%      78.900000\n",
      "max      81.000000\n",
      "Name: Life expectancy at birth (years), dtype: float64\n",
      "\n",
      "GDP range:\n",
      " count    9.600000e+01\n",
      "mean     3.880499e+12\n",
      "std      5.197561e+12\n",
      "min      4.415703e+09\n",
      "25%      1.733018e+11\n",
      "50%      1.280220e+12\n",
      "75%      4.067510e+12\n",
      "max      1.810000e+13\n",
      "Name: GDP, dtype: float64\n"
     ]
    }
   ],
   "source": [
    "# Check for unrealistic values\n",
    "print(\"\\nLife expectancy range:\\n\", data['Life expectancy at birth (years)'].describe())\n",
    "print(\"\\nGDP range:\\n\", data['GDP'].describe())"
   ]
  },
  {
   "cell_type": "code",
   "execution_count": 12,
   "metadata": {
    "jupyter": {
     "source_hidden": true
    }
   },
   "outputs": [
    {
     "name": "stdout",
     "output_type": "stream",
     "text": [
      "\n",
      "Unique countries: ['Chile' 'China' 'Germany' 'Mexico' 'United States of America' 'Zimbabwe']\n",
      "Year range: 2000 to 2015\n"
     ]
    }
   ],
   "source": [
    "# Check unique countries and years\n",
    "print(\"\\nUnique countries:\", data['Country'].unique())\n",
    "print(\"Year range:\", data['Year'].min(), \"to\", data['Year'].max())"
   ]
  },
  {
   "cell_type": "code",
   "execution_count": 13,
   "metadata": {
    "jupyter": {
     "source_hidden": true
    }
   },
   "outputs": [
    {
     "name": "stdout",
     "output_type": "stream",
     "text": [
      "\n",
      "Updated column names: Index(['Country', 'Year', 'Life_Expectancy', 'GDP'], dtype='object')\n"
     ]
    }
   ],
   "source": [
    "# Rename columns for convenience\n",
    "data = data.rename(columns={'Life expectancy at birth (years)': 'Life_Expectancy'})\n",
    "print(\"\\nUpdated column names:\", data.columns)"
   ]
  },
  {
   "cell_type": "code",
   "execution_count": null,
   "metadata": {},
   "outputs": [],
   "source": []
  }
 ],
 "metadata": {
  "kernelspec": {
   "display_name": "Python 3 (ipykernel)",
   "language": "python",
   "name": "python3"
  },
  "language_info": {
   "codemirror_mode": {
    "name": "ipython",
    "version": 3
   },
   "file_extension": ".py",
   "mimetype": "text/x-python",
   "name": "python",
   "nbconvert_exporter": "python",
   "pygments_lexer": "ipython3",
   "version": "3.12.1"
  }
 },
 "nbformat": 4,
 "nbformat_minor": 4
}
