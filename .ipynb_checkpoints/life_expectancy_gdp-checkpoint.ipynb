{
 "cells": [
  {
   "cell_type": "markdown",
   "metadata": {},
   "source": [
    "# Life Expectancy and GDP Analysis\n",
    "## Project Goals\n",
    "- Analyze the relationship between GDP and life expectancy for six countries.\n",
    "- Answer: Does higher GDP correlate with higher life expectancy?\n",
    "- Summarize life expectancy and GDP trends over time per country.\n",
    "- Visualize trends using line plots, scatter plots, and other charts.\n",
    "- Identify differences in GDP-life expectancy relationships across countries.\n",
    "- Document findings in this notebook and track progress in GitHub."
   ]
  },
  {
   "cell_type": "code",
   "execution_count": 4,
   "metadata": {
    "jupyter": {
     "source_hidden": true
    }
   },
   "outputs": [
    {
     "name": "stdout",
     "output_type": "stream",
     "text": [
      "  Country  Year  Life expectancy at birth (years)           GDP\n",
      "0   Chile  2000                              77.3  7.786093e+10\n",
      "1   Chile  2001                              77.3  7.097992e+10\n",
      "2   Chile  2002                              77.8  6.973681e+10\n",
      "3   Chile  2003                              77.9  7.564346e+10\n",
      "4   Chile  2004                              78.0  9.921039e+10\n"
     ]
    }
   ],
   "source": [
    "# Load the dataset\n",
    "import pandas as pd\n",
    "data = pd.read_csv('all_data.csv')\n",
    "\n",
    "# Display the first few rows\n",
    "print(data.head())"
   ]
  },
  {
   "cell_type": "code",
   "execution_count": 5,
   "metadata": {
    "jupyter": {
     "source_hidden": true
    }
   },
   "outputs": [
    {
     "name": "stdout",
     "output_type": "stream",
     "text": [
      "<class 'pandas.core.frame.DataFrame'>\n",
      "RangeIndex: 96 entries, 0 to 95\n",
      "Data columns (total 4 columns):\n",
      " #   Column                            Non-Null Count  Dtype  \n",
      "---  ------                            --------------  -----  \n",
      " 0   Country                           96 non-null     object \n",
      " 1   Year                              96 non-null     int64  \n",
      " 2   Life expectancy at birth (years)  96 non-null     float64\n",
      " 3   GDP                               96 non-null     float64\n",
      "dtypes: float64(2), int64(1), object(1)\n",
      "memory usage: 3.1+ KB\n",
      "None\n"
     ]
    }
   ],
   "source": [
    "# Check column names and data types\n",
    "print(data.info())"
   ]
  },
  {
   "cell_type": "code",
   "execution_count": 6,
   "metadata": {
    "jupyter": {
     "source_hidden": true
    }
   },
   "outputs": [
    {
     "name": "stdout",
     "output_type": "stream",
     "text": [
      "Country                             0\n",
      "Year                                0\n",
      "Life expectancy at birth (years)    0\n",
      "GDP                                 0\n",
      "dtype: int64\n"
     ]
    }
   ],
   "source": [
    "# Check for missing values\n",
    "print(data.isnull().sum())"
   ]
  },
  {
   "cell_type": "markdown",
   "metadata": {},
   "source": [
    "## Analytical Steps\n",
    "1. **Data Cleaning**: Verify no missing values or outliers; rename columns if needed.\n",
    "2. **Summary Statistics**: Calculate mean, min, max, and std for life expectancy and GDP per country.\n",
    "3. **Visualizations**:\n",
    "   - Line plots: Life expectancy and GDP over time.\n",
    "   - Scatter plots: GDP vs. life expectancy.\n",
    "   - Bar plots: Compare averages across countries.\n",
    "4. **Correlation Analysis**: Compute correlation between GDP and life expectancy.\n",
    "5. **Insights**: Answer whether GDP correlates with life expectancy; note country differences.\n",
    "6. **Finalize**: Organize notebook and push to GitHub."
   ]
  },
  {
   "cell_type": "markdown",
   "metadata": {},
   "source": [
    "## Data Cleaning\n",
    "Checking for missing values, outliers, and renaming columns for convenience."
   ]
  },
  {
   "cell_type": "code",
   "execution_count": 9,
   "metadata": {
    "jupyter": {
     "source_hidden": true
    }
   },
   "outputs": [],
   "source": [
    "# Import libraries\n",
    "import matplotlib.pyplot as plt\n",
    "import seaborn as sns\n",
    "%matplotlib inline"
   ]
  },
  {
   "cell_type": "code",
   "execution_count": 11,
   "metadata": {
    "jupyter": {
     "source_hidden": true
    }
   },
   "outputs": [
    {
     "name": "stdout",
     "output_type": "stream",
     "text": [
      "\n",
      "Life expectancy range:\n",
      " count    96.000000\n",
      "mean     72.789583\n",
      "std      10.672882\n",
      "min      44.300000\n",
      "25%      74.475000\n",
      "50%      76.750000\n",
      "75%      78.900000\n",
      "max      81.000000\n",
      "Name: Life expectancy at birth (years), dtype: float64\n",
      "\n",
      "GDP range:\n",
      " count    9.600000e+01\n",
      "mean     3.880499e+12\n",
      "std      5.197561e+12\n",
      "min      4.415703e+09\n",
      "25%      1.733018e+11\n",
      "50%      1.280220e+12\n",
      "75%      4.067510e+12\n",
      "max      1.810000e+13\n",
      "Name: GDP, dtype: float64\n"
     ]
    }
   ],
   "source": [
    "# Check for unrealistic values\n",
    "print(\"\\nLife expectancy range:\\n\", data['Life expectancy at birth (years)'].describe())\n",
    "print(\"\\nGDP range:\\n\", data['GDP'].describe())"
   ]
  },
  {
   "cell_type": "code",
   "execution_count": 12,
   "metadata": {
    "jupyter": {
     "source_hidden": true
    }
   },
   "outputs": [
    {
     "name": "stdout",
     "output_type": "stream",
     "text": [
      "\n",
      "Unique countries: ['Chile' 'China' 'Germany' 'Mexico' 'United States of America' 'Zimbabwe']\n",
      "Year range: 2000 to 2015\n"
     ]
    }
   ],
   "source": [
    "# Check unique countries and years\n",
    "print(\"\\nUnique countries:\", data['Country'].unique())\n",
    "print(\"Year range:\", data['Year'].min(), \"to\", data['Year'].max())"
   ]
  },
  {
   "cell_type": "code",
   "execution_count": 13,
   "metadata": {
    "jupyter": {
     "source_hidden": true
    }
   },
   "outputs": [
    {
     "name": "stdout",
     "output_type": "stream",
     "text": [
      "\n",
      "Updated column names: Index(['Country', 'Year', 'Life_Expectancy', 'GDP'], dtype='object')\n"
     ]
    }
   ],
   "source": [
    "# Rename columns for convenience\n",
    "data = data.rename(columns={'Life expectancy at birth (years)': 'Life_Expectancy'})\n",
    "print(\"\\nUpdated column names:\", data.columns)"
   ]
  },
  {
   "cell_type": "markdown",
   "metadata": {},
   "source": [
    "## Initial Analysis\n",
    "Calculating summary statistics for life expectancy and GDP by country."
   ]
  },
  {
   "cell_type": "code",
   "execution_count": 14,
   "metadata": {
    "jupyter": {
     "source_hidden": true
    }
   },
   "outputs": [
    {
     "name": "stdout",
     "output_type": "stream",
     "text": [
      "Overall Summary Statistics:\n",
      "        Life_Expectancy           GDP\n",
      "count        96.000000  9.600000e+01\n",
      "mean         72.789583  3.880499e+12\n",
      "std          10.672882  5.197561e+12\n",
      "min          44.300000  4.415703e+09\n",
      "25%          74.475000  1.733018e+11\n",
      "50%          76.750000  1.280220e+12\n",
      "75%          78.900000  4.067510e+12\n",
      "max          81.000000  1.810000e+13\n"
     ]
    }
   ],
   "source": [
    "# Summary statistics for the entire dataset\n",
    "print(\"Overall Summary Statistics:\\n\", data[['Life_Expectancy', 'GDP']].describe())"
   ]
  },
  {
   "cell_type": "code",
   "execution_count": 16,
   "metadata": {
    "jupyter": {
     "source_hidden": true
    }
   },
   "outputs": [
    {
     "name": "stdout",
     "output_type": "stream",
     "text": [
      "\n",
      "Summary Statistics by Country:\n",
      "                          Life_Expectancy                             GDP  \\\n",
      "                                    mean   min   max   std          mean   \n",
      "Country                                                                    \n",
      "Chile                              78.94  77.3  80.5  1.06  1.697888e+11   \n",
      "China                              74.26  71.7  76.1  1.32  4.957714e+12   \n",
      "Germany                            79.66  78.0  81.0  0.97  3.094776e+12   \n",
      "Mexico                             75.72  74.8  76.7  0.62  9.766506e+11   \n",
      "United States of America           78.06  76.8  79.3  0.83  1.407500e+13   \n",
      "Zimbabwe                           50.09  44.3  60.7  5.94  9.062580e+09   \n",
      "\n",
      "                                                                    \n",
      "                                   min           max           std  \n",
      "Country                                                             \n",
      "Chile                     6.973681e+10  2.783840e+11  7.687884e+10  \n",
      "China                     1.211350e+12  1.106470e+13  3.501096e+12  \n",
      "Germany                   1.949950e+12  3.890610e+12  6.674862e+11  \n",
      "Mexico                    6.836480e+11  1.298460e+12  2.095716e+11  \n",
      "United States of America  1.030000e+13  1.810000e+13  2.432694e+12  \n",
      "Zimbabwe                  4.415703e+09  1.630467e+10  4.298310e+09  \n"
     ]
    }
   ],
   "source": [
    "# Group by country and calculate mean, min, max for Life_Expectancy and GDP\n",
    "country_summary = data.groupby('Country').agg({\n",
    "    'Life_Expectancy': ['mean', 'min', 'max', 'std'],\n",
    "    'GDP': ['mean', 'min', 'max', 'std']\n",
    "}).round(2)\n",
    "\n",
    "print(\"\\nSummary Statistics by Country:\\n\", country_summary)"
   ]
  },
  {
   "cell_type": "code",
   "execution_count": 17,
   "metadata": {
    "jupyter": {
     "source_hidden": true
    }
   },
   "outputs": [
    {
     "name": "stdout",
     "output_type": "stream",
     "text": [
      "\n",
      "Average Life Expectancy by Country (sorted):\n",
      " Country\n",
      "Zimbabwe                    50.09375\n",
      "China                       74.26250\n",
      "Mexico                      75.71875\n",
      "United States of America    78.06250\n",
      "Chile                       78.94375\n",
      "Germany                     79.65625\n",
      "Name: Life_Expectancy, dtype: float64\n"
     ]
    }
   ],
   "source": [
    "# Identify countries with highest/lowest average life expectancy\n",
    "mean_life_expectancy = data.groupby('Country')['Life_Expectancy'].mean().sort_values()\n",
    "print(\"\\nAverage Life Expectancy by Country (sorted):\\n\", mean_life_expectancy)"
   ]
  },
  {
   "cell_type": "code",
   "execution_count": 18,
   "metadata": {
    "jupyter": {
     "source_hidden": true
    }
   },
   "outputs": [
    {
     "name": "stdout",
     "output_type": "stream",
     "text": [
      "\n",
      "Average GDP by Country (sorted):\n",
      " Country\n",
      "Zimbabwe                    9.062580e+09\n",
      "Chile                       1.697888e+11\n",
      "Mexico                      9.766506e+11\n",
      "Germany                     3.094776e+12\n",
      "China                       4.957714e+12\n",
      "United States of America    1.407500e+13\n",
      "Name: GDP, dtype: float64\n"
     ]
    }
   ],
   "source": [
    "# Identify countries with highest/lowest average GDP\n",
    "mean_gdp = data.groupby('Country')['GDP'].mean().sort_values()\n",
    "print(\"\\nAverage GDP by Country (sorted):\\n\", mean_gdp)"
   ]
  },
  {
   "cell_type": "markdown",
   "metadata": {},
   "source": [
    "### Initial Observations\n",
    "- **Life Expectancy**: Germany has the highest average life expectancy (79.6 years), while Zimbabwe has the lowest (50.9 years).\n",
    "- **GDP**: United States of America has the highest average GDP (14 trillion USD), while Zimbabwe has the lowest (9.06 billion USD).\n",
    "- Next steps: Visualize trends over time and explore GDP-life expectancy correlations."
   ]
  },
  {
   "cell_type": "code",
   "execution_count": null,
   "metadata": {},
   "outputs": [],
   "source": []
  }
 ],
 "metadata": {
  "kernelspec": {
   "display_name": "Python 3 (ipykernel)",
   "language": "python",
   "name": "python3"
  },
  "language_info": {
   "codemirror_mode": {
    "name": "ipython",
    "version": 3
   },
   "file_extension": ".py",
   "mimetype": "text/x-python",
   "name": "python",
   "nbconvert_exporter": "python",
   "pygments_lexer": "ipython3",
   "version": "3.12.1"
  }
 },
 "nbformat": 4,
 "nbformat_minor": 4
}
